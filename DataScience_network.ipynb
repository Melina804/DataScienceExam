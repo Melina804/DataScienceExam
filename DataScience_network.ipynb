{
 "cells": [
  {
   "cell_type": "code",
   "execution_count": 1,
   "id": "3d6e4d48-936d-4d77-b899-51092e4e179c",
   "metadata": {
    "execution": {
     "iopub.execute_input": "2022-05-30T06:50:56.485824Z",
     "iopub.status.busy": "2022-05-30T06:50:56.485286Z",
     "iopub.status.idle": "2022-05-30T06:50:58.586842Z",
     "shell.execute_reply": "2022-05-30T06:50:58.586188Z",
     "shell.execute_reply.started": "2022-05-30T06:50:56.485773Z"
    },
    "tags": []
   },
   "outputs": [
    {
     "name": "stderr",
     "output_type": "stream",
     "text": [
      "2022-05-30 08:50:56.874664: W tensorflow/stream_executor/platform/default/dso_loader.cc:64] Could not load dynamic library 'libcudart.so.11.0'; dlerror: libcudart.so.11.0: cannot open shared object file: No such file or directory\n",
      "2022-05-30 08:50:56.874697: I tensorflow/stream_executor/cuda/cudart_stub.cc:29] Ignore above cudart dlerror if you do not have a GPU set up on your machine.\n"
     ]
    }
   ],
   "source": [
    "# Importing packages \n",
    "\n",
    "import pandas as pd \n",
    "import tensorflow as tf\n",
    "import matplotlib.pyplot as plt\n",
    "from tensorflow.keras import Model\n",
    "from tensorflow.keras import Sequential\n",
    "from tensorflow.keras.optimizers import Adam\n",
    "from tensorflow.keras.optimizers import SGD\n",
    "from sklearn.preprocessing import StandardScaler\n",
    "from tensorflow.keras.layers import Dense, Dropout\n",
    "from sklearn.model_selection import train_test_split\n",
    "from tensorflow.keras.losses import MeanSquaredLogarithmicError\n",
    "from tensorflow.keras.losses import MeanSquaredError\n",
    "from tensorboard.plugins.hparams import api as hp\n",
    "#from kerastuner.tuner import RandomSearch\n",
    "#from kerastuner.engine.hyperparameters import HyperParameters"
   ]
  },
  {
   "cell_type": "code",
   "execution_count": 2,
   "id": "4d2d8349-860c-4ad1-8edc-319109804dcf",
   "metadata": {
    "execution": {
     "iopub.execute_input": "2022-05-30T06:51:00.566357Z",
     "iopub.status.busy": "2022-05-30T06:51:00.565619Z",
     "iopub.status.idle": "2022-05-30T06:51:00.659574Z",
     "shell.execute_reply": "2022-05-30T06:51:00.658322Z",
     "shell.execute_reply.started": "2022-05-30T06:51:00.566305Z"
    },
    "tags": []
   },
   "outputs": [
    {
     "name": "stdout",
     "output_type": "stream",
     "text": [
      "     psi_threshold  psi_slope  Negative_Health\n",
      "0         0.592600   0.248427         0.247580\n",
      "1         0.382707   0.320397         0.441423\n",
      "2         0.573655   0.946282         0.110176\n",
      "3         0.479204   0.626223         0.230602\n",
      "4         0.500300   0.603582         0.372423\n",
      "..             ...        ...              ...\n",
      "396       0.612133   0.080888         0.294766\n",
      "397       0.439251   0.559627         0.453051\n",
      "398       0.569578   0.924403         0.464494\n",
      "399       0.484850   0.209786         0.506281\n",
      "400       0.414202   0.862793         0.279448\n",
      "\n",
      "[401 rows x 3 columns]\n",
      "     psi_threshold  psi_slope  Negative_Health\n",
      "0         0.204811   0.358460         0.268677\n",
      "1         0.261559   0.428206         0.370547\n",
      "2         0.421600   0.566647         0.181282\n",
      "3         0.330638   0.406307         0.514191\n",
      "4         0.371840   0.799345         0.194598\n",
      "..             ...        ...              ...\n",
      "96        0.268791   0.713626         0.283349\n",
      "97        0.353003   0.583496         0.535790\n",
      "98        0.396953   0.611345         0.344169\n",
      "99        0.447408   0.264263         0.397182\n",
      "100       0.439603   0.306562         0.481633\n",
      "\n",
      "[101 rows x 3 columns]\n"
     ]
    }
   ],
   "source": [
    "# Importing data\n",
    "train_norm = pd.read_csv(r'train_norm_negative_health')\n",
    "print (train_norm)\n",
    "test_norm = pd.read_csv(r'test_norm_negative_health')\n",
    "print (test_norm)"
   ]
  },
  {
   "cell_type": "code",
   "execution_count": 3,
   "id": "f4084ece-e457-4c6a-a92a-2ea980d6b121",
   "metadata": {
    "execution": {
     "iopub.execute_input": "2022-05-30T06:51:14.365909Z",
     "iopub.status.busy": "2022-05-30T06:51:14.363456Z",
     "iopub.status.idle": "2022-05-30T06:51:14.378196Z",
     "shell.execute_reply": "2022-05-30T06:51:14.377288Z",
     "shell.execute_reply.started": "2022-05-30T06:51:14.365829Z"
    },
    "tags": []
   },
   "outputs": [],
   "source": [
    "# Further splitting train and test data\n",
    "TARGET_NAME = 'Negative_Health'\n",
    "\n",
    "# x_train = features, y_train = target for nomalized data\n",
    "x_train_norm, y_train_norm = train_norm.drop(TARGET_NAME, axis=1), train_norm[TARGET_NAME]\n",
    "x_test_norm, y_test_norm = test_norm.drop(TARGET_NAME, axis=1), test_norm[TARGET_NAME]\n"
   ]
  },
  {
   "cell_type": "code",
   "execution_count": 4,
   "id": "4245f71c-98d6-40c1-9a9a-5bd92f17280f",
   "metadata": {
    "execution": {
     "iopub.execute_input": "2022-05-30T06:51:18.455191Z",
     "iopub.status.busy": "2022-05-30T06:51:18.454678Z",
     "iopub.status.idle": "2022-05-30T06:51:18.592901Z",
     "shell.execute_reply": "2022-05-30T06:51:18.592273Z",
     "shell.execute_reply.started": "2022-05-30T06:51:18.455140Z"
    },
    "tags": []
   },
   "outputs": [
    {
     "name": "stderr",
     "output_type": "stream",
     "text": [
      "2022-05-30 08:51:18.568814: E tensorflow/stream_executor/cuda/cuda_driver.cc:271] failed call to cuInit: CUDA_ERROR_NO_DEVICE: no CUDA-capable device is detected\n",
      "2022-05-30 08:51:18.568906: I tensorflow/stream_executor/cuda/cuda_diagnostics.cc:156] kernel driver does not appear to be running on this host (j-74105-job-0): /proc/driver/nvidia/version does not exist\n",
      "2022-05-30 08:51:18.569521: I tensorflow/core/platform/cpu_feature_guard.cc:193] This TensorFlow binary is optimized with oneAPI Deep Neural Network Library (oneDNN) to use the following CPU instructions in performance-critical operations:  AVX2 AVX512F FMA\n",
      "To enable them in other operations, rebuild TensorFlow with the appropriate compiler flags.\n"
     ]
    }
   ],
   "source": [
    "# Building the model\n",
    "hidden_units1 = 16\n",
    "hidden_units2 = 9\n",
    "hidden_units3 = 4\n",
    "learning_rate = 0.001\n",
    "\n",
    "# Creating model using the Sequential in tensorflow\n",
    "def build_model_using_sequential():\n",
    "  model = Sequential([\n",
    "    Dense(hidden_units1, kernel_initializer='normal', activation='relu'),\n",
    "    Dropout(0.2),\n",
    "    Dense(hidden_units2, kernel_initializer='normal', activation='relu'),\n",
    "    Dropout(0.2),\n",
    "    Dense(hidden_units3, kernel_initializer='normal', activation='relu'),\n",
    "    Dropout(0.2),\n",
    "    Dense(1, kernel_initializer='normal', activation='linear')\n",
    "  ])\n",
    "\n",
    "  return model\n",
    "\n",
    "# build the model\n",
    "model = build_model_using_sequential()"
   ]
  },
  {
   "cell_type": "code",
   "execution_count": 6,
   "id": "6a0ad17e-c011-4128-bf7b-c54020a1d452",
   "metadata": {
    "execution": {
     "iopub.execute_input": "2022-05-26T11:43:25.811272Z",
     "iopub.status.busy": "2022-05-26T11:43:25.810776Z",
     "iopub.status.idle": "2022-05-26T11:43:28.990659Z",
     "shell.execute_reply": "2022-05-26T11:43:28.988950Z",
     "shell.execute_reply.started": "2022-05-26T11:43:25.811223Z"
    },
    "tags": []
   },
   "outputs": [
    {
     "name": "stdout",
     "output_type": "stream",
     "text": [
      "Epoch 1/30\n",
      "32/32 [==============================] - 1s 7ms/step - loss: 0.0668 - mean_squared_logarithmic_error: 0.0668 - val_loss: 0.0622 - val_mean_squared_logarithmic_error: 0.0604\n",
      "Epoch 2/30\n",
      "32/32 [==============================] - 0s 2ms/step - loss: 0.0491 - mean_squared_logarithmic_error: 0.0491 - val_loss: 0.0413 - val_mean_squared_logarithmic_error: 0.0395\n",
      "Epoch 3/30\n",
      "32/32 [==============================] - 0s 2ms/step - loss: 0.0270 - mean_squared_logarithmic_error: 0.0270 - val_loss: 0.0181 - val_mean_squared_logarithmic_error: 0.0164\n",
      "Epoch 4/30\n",
      "32/32 [==============================] - 0s 2ms/step - loss: 0.0167 - mean_squared_logarithmic_error: 0.0167 - val_loss: 0.0143 - val_mean_squared_logarithmic_error: 0.0129\n",
      "Epoch 5/30\n",
      "32/32 [==============================] - 0s 3ms/step - loss: 0.0167 - mean_squared_logarithmic_error: 0.0167 - val_loss: 0.0145 - val_mean_squared_logarithmic_error: 0.0131\n",
      "Epoch 6/30\n",
      "32/32 [==============================] - 0s 2ms/step - loss: 0.0156 - mean_squared_logarithmic_error: 0.0156 - val_loss: 0.0145 - val_mean_squared_logarithmic_error: 0.0131\n",
      "Epoch 7/30\n",
      "32/32 [==============================] - 0s 2ms/step - loss: 0.0159 - mean_squared_logarithmic_error: 0.0159 - val_loss: 0.0145 - val_mean_squared_logarithmic_error: 0.0131\n",
      "Epoch 8/30\n",
      "32/32 [==============================] - 0s 3ms/step - loss: 0.0163 - mean_squared_logarithmic_error: 0.0163 - val_loss: 0.0147 - val_mean_squared_logarithmic_error: 0.0132\n",
      "Epoch 9/30\n",
      "32/32 [==============================] - 0s 3ms/step - loss: 0.0153 - mean_squared_logarithmic_error: 0.0153 - val_loss: 0.0143 - val_mean_squared_logarithmic_error: 0.0129\n",
      "Epoch 10/30\n",
      "32/32 [==============================] - 0s 3ms/step - loss: 0.0150 - mean_squared_logarithmic_error: 0.0150 - val_loss: 0.0143 - val_mean_squared_logarithmic_error: 0.0129\n",
      "Epoch 11/30\n",
      "32/32 [==============================] - 0s 3ms/step - loss: 0.0152 - mean_squared_logarithmic_error: 0.0152 - val_loss: 0.0146 - val_mean_squared_logarithmic_error: 0.0131\n",
      "Epoch 12/30\n",
      "32/32 [==============================] - 0s 2ms/step - loss: 0.0146 - mean_squared_logarithmic_error: 0.0146 - val_loss: 0.0143 - val_mean_squared_logarithmic_error: 0.0128\n",
      "Epoch 13/30\n",
      "32/32 [==============================] - 0s 2ms/step - loss: 0.0149 - mean_squared_logarithmic_error: 0.0149 - val_loss: 0.0142 - val_mean_squared_logarithmic_error: 0.0128\n",
      "Epoch 14/30\n",
      "32/32 [==============================] - 0s 3ms/step - loss: 0.0152 - mean_squared_logarithmic_error: 0.0152 - val_loss: 0.0144 - val_mean_squared_logarithmic_error: 0.0129\n",
      "Epoch 15/30\n",
      "32/32 [==============================] - 0s 2ms/step - loss: 0.0138 - mean_squared_logarithmic_error: 0.0138 - val_loss: 0.0142 - val_mean_squared_logarithmic_error: 0.0128\n",
      "Epoch 16/30\n",
      "32/32 [==============================] - 0s 2ms/step - loss: 0.0141 - mean_squared_logarithmic_error: 0.0141 - val_loss: 0.0143 - val_mean_squared_logarithmic_error: 0.0129\n",
      "Epoch 17/30\n",
      "32/32 [==============================] - 0s 2ms/step - loss: 0.0144 - mean_squared_logarithmic_error: 0.0144 - val_loss: 0.0142 - val_mean_squared_logarithmic_error: 0.0128\n",
      "Epoch 18/30\n",
      "32/32 [==============================] - 0s 2ms/step - loss: 0.0159 - mean_squared_logarithmic_error: 0.0159 - val_loss: 0.0144 - val_mean_squared_logarithmic_error: 0.0130\n",
      "Epoch 19/30\n",
      "32/32 [==============================] - 0s 3ms/step - loss: 0.0144 - mean_squared_logarithmic_error: 0.0144 - val_loss: 0.0142 - val_mean_squared_logarithmic_error: 0.0128\n",
      "Epoch 20/30\n",
      "32/32 [==============================] - 0s 3ms/step - loss: 0.0144 - mean_squared_logarithmic_error: 0.0144 - val_loss: 0.0142 - val_mean_squared_logarithmic_error: 0.0128\n",
      "Epoch 21/30\n",
      "32/32 [==============================] - 0s 2ms/step - loss: 0.0137 - mean_squared_logarithmic_error: 0.0137 - val_loss: 0.0142 - val_mean_squared_logarithmic_error: 0.0128\n",
      "Epoch 22/30\n",
      "32/32 [==============================] - 0s 2ms/step - loss: 0.0145 - mean_squared_logarithmic_error: 0.0145 - val_loss: 0.0142 - val_mean_squared_logarithmic_error: 0.0128\n",
      "Epoch 23/30\n",
      "32/32 [==============================] - 0s 3ms/step - loss: 0.0146 - mean_squared_logarithmic_error: 0.0146 - val_loss: 0.0141 - val_mean_squared_logarithmic_error: 0.0127\n",
      "Epoch 24/30\n",
      "32/32 [==============================] - 0s 3ms/step - loss: 0.0146 - mean_squared_logarithmic_error: 0.0146 - val_loss: 0.0143 - val_mean_squared_logarithmic_error: 0.0129\n",
      "Epoch 25/30\n",
      "32/32 [==============================] - 0s 3ms/step - loss: 0.0138 - mean_squared_logarithmic_error: 0.0138 - val_loss: 0.0142 - val_mean_squared_logarithmic_error: 0.0128\n",
      "Epoch 26/30\n",
      "32/32 [==============================] - 0s 2ms/step - loss: 0.0140 - mean_squared_logarithmic_error: 0.0140 - val_loss: 0.0140 - val_mean_squared_logarithmic_error: 0.0126\n",
      "Epoch 27/30\n",
      "32/32 [==============================] - 0s 3ms/step - loss: 0.0140 - mean_squared_logarithmic_error: 0.0140 - val_loss: 0.0141 - val_mean_squared_logarithmic_error: 0.0127\n",
      "Epoch 28/30\n",
      "32/32 [==============================] - 0s 3ms/step - loss: 0.0140 - mean_squared_logarithmic_error: 0.0140 - val_loss: 0.0142 - val_mean_squared_logarithmic_error: 0.0127\n",
      "Epoch 29/30\n",
      "32/32 [==============================] - 0s 3ms/step - loss: 0.0139 - mean_squared_logarithmic_error: 0.0139 - val_loss: 0.0141 - val_mean_squared_logarithmic_error: 0.0127\n",
      "Epoch 30/30\n",
      "32/32 [==============================] - 0s 3ms/step - loss: 0.0134 - mean_squared_logarithmic_error: 0.0134 - val_loss: 0.0142 - val_mean_squared_logarithmic_error: 0.0128\n"
     ]
    }
   ],
   "source": [
    "# loss function\n",
    "msle = MeanSquaredLogarithmicError()\n",
    "model.compile(\n",
    "    loss=msle, \n",
    "    optimizer=Adam(learning_rate=learning_rate), \n",
    "    metrics=[msle]\n",
    ")\n",
    "\n",
    "# train the model\n",
    "history = model.fit(\n",
    "    x_train_norm.values, \n",
    "    y_train_norm.values,\n",
    "    validation_split=0.2,\n",
    "    epochs=30, \n",
    "    batch_size=10\n",
    ")\n"
   ]
  },
  {
   "cell_type": "code",
   "execution_count": 13,
   "id": "afe1c3d0-1625-4c05-b45d-0aa41f3af715",
   "metadata": {
    "execution": {
     "iopub.execute_input": "2022-05-26T11:47:59.011949Z",
     "iopub.status.busy": "2022-05-26T11:47:59.011432Z",
     "iopub.status.idle": "2022-05-26T11:47:59.130904Z",
     "shell.execute_reply": "2022-05-26T11:47:59.130298Z",
     "shell.execute_reply.started": "2022-05-26T11:47:59.011898Z"
    },
    "tags": []
   },
   "outputs": [
    {
     "data": {
      "image/png": "[encoded data removed]",
      "text/plain": [
       "<Figure size 432x288 with 1 Axes>"
      ]
     },
     "metadata": {
      "needs_background": "light"
     },
     "output_type": "display_data"
    }
   ],
   "source": [
    "def plot_history(history, key):\n",
    "  plt.plot(history.history[key])\n",
    "  plt.plot(history.history['val_'+key])\n",
    "  plt.xlabel(\"Epochs\")\n",
    "  plt.ylabel(key)\n",
    "  plt.legend(['test', 'validation'])\n",
    "  plt.show()\n",
    "# Plot the history\n",
    "plot_history(history, 'mean_squared_logarithmic_error')"
   ]
  },
  {
   "cell_type": "code",
   "execution_count": 9,
   "id": "82e3789e-f60e-4040-a228-8cffc8016491",
   "metadata": {
    "execution": {
     "iopub.execute_input": "2022-05-26T11:44:31.981719Z",
     "iopub.status.busy": "2022-05-26T11:44:31.981204Z",
     "iopub.status.idle": "2022-05-26T11:44:32.187646Z",
     "shell.execute_reply": "2022-05-26T11:44:32.186570Z",
     "shell.execute_reply.started": "2022-05-26T11:44:31.981668Z"
    },
    "tags": []
   },
   "outputs": [
    {
     "name": "stdout",
     "output_type": "stream",
     "text": [
      "Evaluate on test data\n",
      "1/1 [==============================] - 0s 108ms/step - loss: 0.0135 - mean_squared_logarithmic_error: 0.0135\n",
      "test loss [0.013507592491805553, 0.013507592491805553]\n",
      "Generate predictions for 3 samples\n",
      "1/1 [==============================] - 0s 21ms/step\n",
      "predictions shape: (3, 1)\n"
     ]
    }
   ],
   "source": [
    "# Evaluate the model on the test data using `evaluate`\n",
    "print(\"Evaluate on test data\")\n",
    "results = model.evaluate(x_test_norm, y_test_norm, batch_size=128)\n",
    "print(\"test loss\", results)\n",
    "\n",
    "# Generate predictions (probabilities -- the output of the last layer)\n",
    "# on new data using `predict`\n",
    "print(\"Generate predictions for 3 samples\")\n",
    "predictions = model.predict(x_test_norm[:3])\n",
    "print(\"predictions shape:\", predictions.shape)"
   ]
  },
  {
   "cell_type": "code",
   "execution_count": 10,
   "id": "975fa46f-10af-4f70-a79c-19968140c41d",
   "metadata": {
    "execution": {
     "iopub.execute_input": "2022-05-26T11:44:50.411045Z",
     "iopub.status.busy": "2022-05-26T11:44:50.410551Z",
     "iopub.status.idle": "2022-05-26T11:44:50.486506Z",
     "shell.execute_reply": "2022-05-26T11:44:50.485382Z",
     "shell.execute_reply.started": "2022-05-26T11:44:50.410996Z"
    },
    "tags": []
   },
   "outputs": [
    {
     "name": "stdout",
     "output_type": "stream",
     "text": [
      "4/4 [==============================] - 0s 2ms/step\n",
      "     psi_threshold  psi_slope  prediction\n",
      "0         0.204811   0.358460    0.268565\n",
      "1         0.261559   0.428206    0.270918\n",
      "2         0.421600   0.566647    0.276402\n",
      "3         0.330638   0.406307    0.271669\n",
      "4         0.371840   0.799345    0.280152\n",
      "..             ...        ...         ...\n",
      "96        0.268791   0.713626    0.276688\n",
      "97        0.353003   0.583496    0.275558\n",
      "98        0.396953   0.611345    0.276863\n",
      "99        0.447408   0.264263    0.270862\n",
      "100       0.439603   0.306562    0.271565\n",
      "\n",
      "[101 rows x 3 columns]\n"
     ]
    }
   ],
   "source": [
    "x_test_norm['prediction'] = model.predict(x_test_norm)\n",
    "print(x_test_norm)"
   ]
  },
  {
   "cell_type": "code",
   "execution_count": 11,
   "id": "e35d89d5-a574-4b89-b23d-21a4a95c8efe",
   "metadata": {
    "execution": {
     "iopub.execute_input": "2022-05-26T11:45:16.301720Z",
     "iopub.status.busy": "2022-05-26T11:45:16.301209Z",
     "iopub.status.idle": "2022-05-26T11:45:16.314329Z",
     "shell.execute_reply": "2022-05-26T11:45:16.312840Z",
     "shell.execute_reply.started": "2022-05-26T11:45:16.301669Z"
    },
    "tags": []
   },
   "outputs": [
    {
     "name": "stdout",
     "output_type": "stream",
     "text": [
      "0      0.268677\n",
      "1      0.370547\n",
      "2      0.181282\n",
      "3      0.514191\n",
      "4      0.194598\n",
      "         ...   \n",
      "96     0.283349\n",
      "97     0.535790\n",
      "98     0.344169\n",
      "99     0.397182\n",
      "100    0.481633\n",
      "Name: Negative_Health, Length: 101, dtype: float64\n",
      "0.2652191\n",
      "0.28539285\n"
     ]
    }
   ],
   "source": [
    "print(y_test_norm)\n",
    "print(x_test_norm['prediction'].min())\n",
    "print(x_test_norm['prediction'].max())"
   ]
  }
 ],
 "metadata": {
  "kernelspec": {
   "display_name": "Python 3 ",
   "language": "python",
   "name": "python3"
  },
  "language_info": {
   "codemirror_mode": {
    "name": "ipython",
    "version": 3
   },
   "file_extension": ".py",
   "mimetype": "text/x-python",
   "name": "python",
   "nbconvert_exporter": "python",
   "pygments_lexer": "ipython3",
   "version": "3.9.6"
  }
 },
 "nbformat": 4,
 "nbformat_minor": 5
}
